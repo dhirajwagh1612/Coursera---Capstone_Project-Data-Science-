{
  "nbformat": 4,
  "nbformat_minor": 0,
  "metadata": {
    "kernelspec": {
      "display_name": "Python 3",
      "language": "python",
      "name": "python3"
    },
    "language_info": {
      "codemirror_mode": {
        "name": "ipython",
        "version": 3
      },
      "file_extension": ".py",
      "mimetype": "text/x-python",
      "name": "python",
      "nbconvert_exporter": "python",
      "pygments_lexer": "ipython3",
      "version": "3.8.3"
    },
    "colab": {
      "name": "Support vector machine.ipynb",
      "provenance": [],
      "collapsed_sections": [],
      "include_colab_link": true
    }
  },
  "cells": [
    {
      "cell_type": "markdown",
      "metadata": {
        "id": "view-in-github",
        "colab_type": "text"
      },
      "source": [
        "<a href=\"https://colab.research.google.com/github/dhirajwagh1612/Coursera---Capstone_Project-Data-Science-/blob/master/Support_vector_machine.ipynb\" target=\"_parent\"><img src=\"https://colab.research.google.com/assets/colab-badge.svg\" alt=\"Open In Colab\"/></a>"
      ]
    },
    {
      "cell_type": "code",
      "metadata": {
        "id": "xWVhvWTFGxSX"
      },
      "source": [
        "import pandas as pd\n",
        "import numpy as np"
      ],
      "execution_count": null,
      "outputs": []
    },
    {
      "cell_type": "code",
      "metadata": {
        "id": "Age_iQyNGxSc"
      },
      "source": [
        "df=pd.read_csv(\"finaldata.csv\")"
      ],
      "execution_count": null,
      "outputs": []
    },
    {
      "cell_type": "code",
      "metadata": {
        "id": "W9MGTEBRGxSe",
        "outputId": "bfdead06-be8f-4ac5-b1af-f58813057f85",
        "colab": {
          "base_uri": "https://localhost:8080/",
          "height": 34
        }
      },
      "source": [
        "df.shape"
      ],
      "execution_count": null,
      "outputs": [
        {
          "output_type": "execute_result",
          "data": {
            "text/plain": [
              "(1421, 22)"
            ]
          },
          "metadata": {
            "tags": []
          },
          "execution_count": 4
        }
      ]
    },
    {
      "cell_type": "code",
      "metadata": {
        "id": "usfH5YRyGxSh",
        "outputId": "0371a5c8-b26b-4359-ff6e-564505b68516",
        "colab": {
          "base_uri": "https://localhost:8080/",
          "height": 232
        }
      },
      "source": [
        "df.head()"
      ],
      "execution_count": null,
      "outputs": [
        {
          "output_type": "execute_result",
          "data": {
            "text/html": [
              "<div>\n",
              "<style scoped>\n",
              "    .dataframe tbody tr th:only-of-type {\n",
              "        vertical-align: middle;\n",
              "    }\n",
              "\n",
              "    .dataframe tbody tr th {\n",
              "        vertical-align: top;\n",
              "    }\n",
              "\n",
              "    .dataframe thead th {\n",
              "        text-align: right;\n",
              "    }\n",
              "</style>\n",
              "<table border=\"1\" class=\"dataframe\">\n",
              "  <thead>\n",
              "    <tr style=\"text-align: right;\">\n",
              "      <th></th>\n",
              "      <th>Unnamed: 0</th>\n",
              "      <th>meanfreq</th>\n",
              "      <th>sd</th>\n",
              "      <th>median</th>\n",
              "      <th>Q25</th>\n",
              "      <th>Q75</th>\n",
              "      <th>IQR</th>\n",
              "      <th>skew</th>\n",
              "      <th>kurt</th>\n",
              "      <th>sp.ent</th>\n",
              "      <th>sfm</th>\n",
              "      <th>mode</th>\n",
              "      <th>centroid</th>\n",
              "      <th>meanfun</th>\n",
              "      <th>minfun</th>\n",
              "      <th>maxfun</th>\n",
              "      <th>meandom</th>\n",
              "      <th>mindom</th>\n",
              "      <th>maxdom</th>\n",
              "      <th>dfrange</th>\n",
              "      <th>modindx</th>\n",
              "      <th>label</th>\n",
              "    </tr>\n",
              "  </thead>\n",
              "  <tbody>\n",
              "    <tr>\n",
              "      <th>0</th>\n",
              "      <td>0</td>\n",
              "      <td>0.149968</td>\n",
              "      <td>0.099511</td>\n",
              "      <td>0.207255</td>\n",
              "      <td>0.026765</td>\n",
              "      <td>0.234706</td>\n",
              "      <td>0.207941</td>\n",
              "      <td>4.886430</td>\n",
              "      <td>38.785945</td>\n",
              "      <td>0.881184</td>\n",
              "      <td>0.526721</td>\n",
              "      <td>0.000000</td>\n",
              "      <td>0.149968</td>\n",
              "      <td>0.141263</td>\n",
              "      <td>0.048249</td>\n",
              "      <td>0.268902</td>\n",
              "      <td>0.044003</td>\n",
              "      <td>0.000000</td>\n",
              "      <td>0.538330</td>\n",
              "      <td>0.538330</td>\n",
              "      <td>0.122000</td>\n",
              "      <td>female</td>\n",
              "    </tr>\n",
              "    <tr>\n",
              "      <th>1</th>\n",
              "      <td>1</td>\n",
              "      <td>0.174247</td>\n",
              "      <td>0.084022</td>\n",
              "      <td>0.215819</td>\n",
              "      <td>0.141058</td>\n",
              "      <td>0.228514</td>\n",
              "      <td>0.087456</td>\n",
              "      <td>2.822182</td>\n",
              "      <td>12.214913</td>\n",
              "      <td>0.869031</td>\n",
              "      <td>0.460990</td>\n",
              "      <td>0.000000</td>\n",
              "      <td>0.174247</td>\n",
              "      <td>0.185990</td>\n",
              "      <td>0.045652</td>\n",
              "      <td>0.267273</td>\n",
              "      <td>0.258398</td>\n",
              "      <td>0.000000</td>\n",
              "      <td>0.645996</td>\n",
              "      <td>0.645996</td>\n",
              "      <td>0.213333</td>\n",
              "      <td>female</td>\n",
              "    </tr>\n",
              "    <tr>\n",
              "      <th>2</th>\n",
              "      <td>2</td>\n",
              "      <td>0.225435</td>\n",
              "      <td>0.025607</td>\n",
              "      <td>0.225672</td>\n",
              "      <td>0.220796</td>\n",
              "      <td>0.233333</td>\n",
              "      <td>0.012537</td>\n",
              "      <td>4.352473</td>\n",
              "      <td>23.358411</td>\n",
              "      <td>0.757906</td>\n",
              "      <td>0.113744</td>\n",
              "      <td>0.224279</td>\n",
              "      <td>0.225435</td>\n",
              "      <td>0.202076</td>\n",
              "      <td>0.044012</td>\n",
              "      <td>0.273913</td>\n",
              "      <td>0.434579</td>\n",
              "      <td>0.215332</td>\n",
              "      <td>0.689063</td>\n",
              "      <td>0.473730</td>\n",
              "      <td>0.213636</td>\n",
              "      <td>female</td>\n",
              "    </tr>\n",
              "    <tr>\n",
              "      <th>3</th>\n",
              "      <td>3</td>\n",
              "      <td>0.224039</td>\n",
              "      <td>0.063252</td>\n",
              "      <td>0.250689</td>\n",
              "      <td>0.212893</td>\n",
              "      <td>0.262259</td>\n",
              "      <td>0.049366</td>\n",
              "      <td>2.871028</td>\n",
              "      <td>10.437957</td>\n",
              "      <td>0.829102</td>\n",
              "      <td>0.366381</td>\n",
              "      <td>0.249917</td>\n",
              "      <td>0.224039</td>\n",
              "      <td>0.133669</td>\n",
              "      <td>0.047470</td>\n",
              "      <td>0.270552</td>\n",
              "      <td>0.303772</td>\n",
              "      <td>0.107666</td>\n",
              "      <td>0.796729</td>\n",
              "      <td>0.689063</td>\n",
              "      <td>0.160880</td>\n",
              "      <td>female</td>\n",
              "    </tr>\n",
              "    <tr>\n",
              "      <th>4</th>\n",
              "      <td>4</td>\n",
              "      <td>0.206200</td>\n",
              "      <td>0.070684</td>\n",
              "      <td>0.248539</td>\n",
              "      <td>0.145506</td>\n",
              "      <td>0.258764</td>\n",
              "      <td>0.113258</td>\n",
              "      <td>3.363964</td>\n",
              "      <td>14.551420</td>\n",
              "      <td>0.862937</td>\n",
              "      <td>0.451474</td>\n",
              "      <td>0.261910</td>\n",
              "      <td>0.206200</td>\n",
              "      <td>0.117503</td>\n",
              "      <td>0.043235</td>\n",
              "      <td>0.279114</td>\n",
              "      <td>0.212142</td>\n",
              "      <td>0.086133</td>\n",
              "      <td>0.559863</td>\n",
              "      <td>0.473730</td>\n",
              "      <td>0.180070</td>\n",
              "      <td>female</td>\n",
              "    </tr>\n",
              "  </tbody>\n",
              "</table>\n",
              "</div>"
            ],
            "text/plain": [
              "   Unnamed: 0  meanfreq        sd  ...   dfrange   modindx   label\n",
              "0           0  0.149968  0.099511  ...  0.538330  0.122000  female\n",
              "1           1  0.174247  0.084022  ...  0.645996  0.213333  female\n",
              "2           2  0.225435  0.025607  ...  0.473730  0.213636  female\n",
              "3           3  0.224039  0.063252  ...  0.689063  0.160880  female\n",
              "4           4  0.206200  0.070684  ...  0.473730  0.180070  female\n",
              "\n",
              "[5 rows x 22 columns]"
            ]
          },
          "metadata": {
            "tags": []
          },
          "execution_count": 5
        }
      ]
    },
    {
      "cell_type": "code",
      "metadata": {
        "id": "ERcwlRraGxSj",
        "outputId": "4aa055d9-b608-472b-86aa-23255befc819",
        "colab": {
          "base_uri": "https://localhost:8080/",
          "height": 232
        }
      },
      "source": [
        "df.tail()"
      ],
      "execution_count": null,
      "outputs": [
        {
          "output_type": "execute_result",
          "data": {
            "text/html": [
              "<div>\n",
              "<style scoped>\n",
              "    .dataframe tbody tr th:only-of-type {\n",
              "        vertical-align: middle;\n",
              "    }\n",
              "\n",
              "    .dataframe tbody tr th {\n",
              "        vertical-align: top;\n",
              "    }\n",
              "\n",
              "    .dataframe thead th {\n",
              "        text-align: right;\n",
              "    }\n",
              "</style>\n",
              "<table border=\"1\" class=\"dataframe\">\n",
              "  <thead>\n",
              "    <tr style=\"text-align: right;\">\n",
              "      <th></th>\n",
              "      <th>Unnamed: 0</th>\n",
              "      <th>meanfreq</th>\n",
              "      <th>sd</th>\n",
              "      <th>median</th>\n",
              "      <th>Q25</th>\n",
              "      <th>Q75</th>\n",
              "      <th>IQR</th>\n",
              "      <th>skew</th>\n",
              "      <th>kurt</th>\n",
              "      <th>sp.ent</th>\n",
              "      <th>sfm</th>\n",
              "      <th>mode</th>\n",
              "      <th>centroid</th>\n",
              "      <th>meanfun</th>\n",
              "      <th>minfun</th>\n",
              "      <th>maxfun</th>\n",
              "      <th>meandom</th>\n",
              "      <th>mindom</th>\n",
              "      <th>maxdom</th>\n",
              "      <th>dfrange</th>\n",
              "      <th>modindx</th>\n",
              "      <th>label</th>\n",
              "    </tr>\n",
              "  </thead>\n",
              "  <tbody>\n",
              "    <tr>\n",
              "      <th>1416</th>\n",
              "      <td>711</td>\n",
              "      <td>0.165011</td>\n",
              "      <td>0.079768</td>\n",
              "      <td>0.141290</td>\n",
              "      <td>0.103871</td>\n",
              "      <td>0.258710</td>\n",
              "      <td>0.154839</td>\n",
              "      <td>3.335024</td>\n",
              "      <td>15.116623</td>\n",
              "      <td>0.925243</td>\n",
              "      <td>0.645095</td>\n",
              "      <td>0.134839</td>\n",
              "      <td>0.165011</td>\n",
              "      <td>0.127518</td>\n",
              "      <td>0.059918</td>\n",
              "      <td>0.234574</td>\n",
              "      <td>0.927722</td>\n",
              "      <td>0.000000</td>\n",
              "      <td>5.167969</td>\n",
              "      <td>5.167969</td>\n",
              "      <td>0.035417</td>\n",
              "      <td>male</td>\n",
              "    </tr>\n",
              "    <tr>\n",
              "      <th>1417</th>\n",
              "      <td>712</td>\n",
              "      <td>0.160477</td>\n",
              "      <td>0.064945</td>\n",
              "      <td>0.132258</td>\n",
              "      <td>0.121290</td>\n",
              "      <td>0.240000</td>\n",
              "      <td>0.118710</td>\n",
              "      <td>3.161258</td>\n",
              "      <td>13.714668</td>\n",
              "      <td>0.851956</td>\n",
              "      <td>0.376977</td>\n",
              "      <td>0.122581</td>\n",
              "      <td>0.160477</td>\n",
              "      <td>0.133568</td>\n",
              "      <td>0.045937</td>\n",
              "      <td>0.253448</td>\n",
              "      <td>0.904395</td>\n",
              "      <td>0.129199</td>\n",
              "      <td>5.189502</td>\n",
              "      <td>5.060303</td>\n",
              "      <td>0.190780</td>\n",
              "      <td>male</td>\n",
              "    </tr>\n",
              "    <tr>\n",
              "      <th>1418</th>\n",
              "      <td>713</td>\n",
              "      <td>0.179460</td>\n",
              "      <td>0.028725</td>\n",
              "      <td>0.177355</td>\n",
              "      <td>0.170858</td>\n",
              "      <td>0.187749</td>\n",
              "      <td>0.016891</td>\n",
              "      <td>2.983881</td>\n",
              "      <td>11.849366</td>\n",
              "      <td>0.766248</td>\n",
              "      <td>0.149198</td>\n",
              "      <td>0.172158</td>\n",
              "      <td>0.179460</td>\n",
              "      <td>0.119660</td>\n",
              "      <td>0.044681</td>\n",
              "      <td>0.210000</td>\n",
              "      <td>0.565845</td>\n",
              "      <td>0.172266</td>\n",
              "      <td>1.184326</td>\n",
              "      <td>1.012061</td>\n",
              "      <td>0.376330</td>\n",
              "      <td>male</td>\n",
              "    </tr>\n",
              "    <tr>\n",
              "      <th>1419</th>\n",
              "      <td>714</td>\n",
              "      <td>0.196675</td>\n",
              "      <td>0.069453</td>\n",
              "      <td>0.216774</td>\n",
              "      <td>0.134194</td>\n",
              "      <td>0.259355</td>\n",
              "      <td>0.125161</td>\n",
              "      <td>1.779159</td>\n",
              "      <td>5.938066</td>\n",
              "      <td>0.916866</td>\n",
              "      <td>0.529893</td>\n",
              "      <td>0.261935</td>\n",
              "      <td>0.196675</td>\n",
              "      <td>0.120741</td>\n",
              "      <td>0.052005</td>\n",
              "      <td>0.135276</td>\n",
              "      <td>0.947461</td>\n",
              "      <td>0.258398</td>\n",
              "      <td>2.863916</td>\n",
              "      <td>2.605518</td>\n",
              "      <td>0.068871</td>\n",
              "      <td>male</td>\n",
              "    </tr>\n",
              "    <tr>\n",
              "      <th>1420</th>\n",
              "      <td>715</td>\n",
              "      <td>0.185317</td>\n",
              "      <td>0.061642</td>\n",
              "      <td>0.212305</td>\n",
              "      <td>0.125165</td>\n",
              "      <td>0.231317</td>\n",
              "      <td>0.106152</td>\n",
              "      <td>3.258910</td>\n",
              "      <td>22.656114</td>\n",
              "      <td>0.915270</td>\n",
              "      <td>0.286580</td>\n",
              "      <td>0.078642</td>\n",
              "      <td>0.185317</td>\n",
              "      <td>0.096331</td>\n",
              "      <td>0.043151</td>\n",
              "      <td>0.275625</td>\n",
              "      <td>0.141050</td>\n",
              "      <td>0.064600</td>\n",
              "      <td>0.624463</td>\n",
              "      <td>0.559863</td>\n",
              "      <td>0.087318</td>\n",
              "      <td>male</td>\n",
              "    </tr>\n",
              "  </tbody>\n",
              "</table>\n",
              "</div>"
            ],
            "text/plain": [
              "      Unnamed: 0  meanfreq        sd  ...   dfrange   modindx  label\n",
              "1416         711  0.165011  0.079768  ...  5.167969  0.035417   male\n",
              "1417         712  0.160477  0.064945  ...  5.060303  0.190780   male\n",
              "1418         713  0.179460  0.028725  ...  1.012061  0.376330   male\n",
              "1419         714  0.196675  0.069453  ...  2.605518  0.068871   male\n",
              "1420         715  0.185317  0.061642  ...  0.559863  0.087318   male\n",
              "\n",
              "[5 rows x 22 columns]"
            ]
          },
          "metadata": {
            "tags": []
          },
          "execution_count": 6
        }
      ]
    },
    {
      "cell_type": "code",
      "metadata": {
        "id": "2zxpSOHSGxSl",
        "outputId": "ad8d3c99-ae96-4a72-ac7a-c1c575640f4b",
        "colab": {
          "base_uri": "https://localhost:8080/",
          "height": 438
        }
      },
      "source": [
        "df"
      ],
      "execution_count": null,
      "outputs": [
        {
          "output_type": "execute_result",
          "data": {
            "text/html": [
              "<div>\n",
              "<style scoped>\n",
              "    .dataframe tbody tr th:only-of-type {\n",
              "        vertical-align: middle;\n",
              "    }\n",
              "\n",
              "    .dataframe tbody tr th {\n",
              "        vertical-align: top;\n",
              "    }\n",
              "\n",
              "    .dataframe thead th {\n",
              "        text-align: right;\n",
              "    }\n",
              "</style>\n",
              "<table border=\"1\" class=\"dataframe\">\n",
              "  <thead>\n",
              "    <tr style=\"text-align: right;\">\n",
              "      <th></th>\n",
              "      <th>Unnamed: 0</th>\n",
              "      <th>meanfreq</th>\n",
              "      <th>sd</th>\n",
              "      <th>median</th>\n",
              "      <th>Q25</th>\n",
              "      <th>Q75</th>\n",
              "      <th>IQR</th>\n",
              "      <th>skew</th>\n",
              "      <th>kurt</th>\n",
              "      <th>sp.ent</th>\n",
              "      <th>sfm</th>\n",
              "      <th>mode</th>\n",
              "      <th>centroid</th>\n",
              "      <th>meanfun</th>\n",
              "      <th>minfun</th>\n",
              "      <th>maxfun</th>\n",
              "      <th>meandom</th>\n",
              "      <th>mindom</th>\n",
              "      <th>maxdom</th>\n",
              "      <th>dfrange</th>\n",
              "      <th>modindx</th>\n",
              "      <th>label</th>\n",
              "    </tr>\n",
              "  </thead>\n",
              "  <tbody>\n",
              "    <tr>\n",
              "      <th>0</th>\n",
              "      <td>0</td>\n",
              "      <td>0.149968</td>\n",
              "      <td>0.099511</td>\n",
              "      <td>0.207255</td>\n",
              "      <td>0.026765</td>\n",
              "      <td>0.234706</td>\n",
              "      <td>0.207941</td>\n",
              "      <td>4.886430</td>\n",
              "      <td>38.785945</td>\n",
              "      <td>0.881184</td>\n",
              "      <td>0.526721</td>\n",
              "      <td>0.000000</td>\n",
              "      <td>0.149968</td>\n",
              "      <td>0.141263</td>\n",
              "      <td>0.048249</td>\n",
              "      <td>0.268902</td>\n",
              "      <td>0.044003</td>\n",
              "      <td>0.000000</td>\n",
              "      <td>0.538330</td>\n",
              "      <td>0.538330</td>\n",
              "      <td>0.122000</td>\n",
              "      <td>female</td>\n",
              "    </tr>\n",
              "    <tr>\n",
              "      <th>1</th>\n",
              "      <td>1</td>\n",
              "      <td>0.174247</td>\n",
              "      <td>0.084022</td>\n",
              "      <td>0.215819</td>\n",
              "      <td>0.141058</td>\n",
              "      <td>0.228514</td>\n",
              "      <td>0.087456</td>\n",
              "      <td>2.822182</td>\n",
              "      <td>12.214913</td>\n",
              "      <td>0.869031</td>\n",
              "      <td>0.460990</td>\n",
              "      <td>0.000000</td>\n",
              "      <td>0.174247</td>\n",
              "      <td>0.185990</td>\n",
              "      <td>0.045652</td>\n",
              "      <td>0.267273</td>\n",
              "      <td>0.258398</td>\n",
              "      <td>0.000000</td>\n",
              "      <td>0.645996</td>\n",
              "      <td>0.645996</td>\n",
              "      <td>0.213333</td>\n",
              "      <td>female</td>\n",
              "    </tr>\n",
              "    <tr>\n",
              "      <th>2</th>\n",
              "      <td>2</td>\n",
              "      <td>0.225435</td>\n",
              "      <td>0.025607</td>\n",
              "      <td>0.225672</td>\n",
              "      <td>0.220796</td>\n",
              "      <td>0.233333</td>\n",
              "      <td>0.012537</td>\n",
              "      <td>4.352473</td>\n",
              "      <td>23.358411</td>\n",
              "      <td>0.757906</td>\n",
              "      <td>0.113744</td>\n",
              "      <td>0.224279</td>\n",
              "      <td>0.225435</td>\n",
              "      <td>0.202076</td>\n",
              "      <td>0.044012</td>\n",
              "      <td>0.273913</td>\n",
              "      <td>0.434579</td>\n",
              "      <td>0.215332</td>\n",
              "      <td>0.689063</td>\n",
              "      <td>0.473730</td>\n",
              "      <td>0.213636</td>\n",
              "      <td>female</td>\n",
              "    </tr>\n",
              "    <tr>\n",
              "      <th>3</th>\n",
              "      <td>3</td>\n",
              "      <td>0.224039</td>\n",
              "      <td>0.063252</td>\n",
              "      <td>0.250689</td>\n",
              "      <td>0.212893</td>\n",
              "      <td>0.262259</td>\n",
              "      <td>0.049366</td>\n",
              "      <td>2.871028</td>\n",
              "      <td>10.437957</td>\n",
              "      <td>0.829102</td>\n",
              "      <td>0.366381</td>\n",
              "      <td>0.249917</td>\n",
              "      <td>0.224039</td>\n",
              "      <td>0.133669</td>\n",
              "      <td>0.047470</td>\n",
              "      <td>0.270552</td>\n",
              "      <td>0.303772</td>\n",
              "      <td>0.107666</td>\n",
              "      <td>0.796729</td>\n",
              "      <td>0.689063</td>\n",
              "      <td>0.160880</td>\n",
              "      <td>female</td>\n",
              "    </tr>\n",
              "    <tr>\n",
              "      <th>4</th>\n",
              "      <td>4</td>\n",
              "      <td>0.206200</td>\n",
              "      <td>0.070684</td>\n",
              "      <td>0.248539</td>\n",
              "      <td>0.145506</td>\n",
              "      <td>0.258764</td>\n",
              "      <td>0.113258</td>\n",
              "      <td>3.363964</td>\n",
              "      <td>14.551420</td>\n",
              "      <td>0.862937</td>\n",
              "      <td>0.451474</td>\n",
              "      <td>0.261910</td>\n",
              "      <td>0.206200</td>\n",
              "      <td>0.117503</td>\n",
              "      <td>0.043235</td>\n",
              "      <td>0.279114</td>\n",
              "      <td>0.212142</td>\n",
              "      <td>0.086133</td>\n",
              "      <td>0.559863</td>\n",
              "      <td>0.473730</td>\n",
              "      <td>0.180070</td>\n",
              "      <td>female</td>\n",
              "    </tr>\n",
              "    <tr>\n",
              "      <th>...</th>\n",
              "      <td>...</td>\n",
              "      <td>...</td>\n",
              "      <td>...</td>\n",
              "      <td>...</td>\n",
              "      <td>...</td>\n",
              "      <td>...</td>\n",
              "      <td>...</td>\n",
              "      <td>...</td>\n",
              "      <td>...</td>\n",
              "      <td>...</td>\n",
              "      <td>...</td>\n",
              "      <td>...</td>\n",
              "      <td>...</td>\n",
              "      <td>...</td>\n",
              "      <td>...</td>\n",
              "      <td>...</td>\n",
              "      <td>...</td>\n",
              "      <td>...</td>\n",
              "      <td>...</td>\n",
              "      <td>...</td>\n",
              "      <td>...</td>\n",
              "      <td>...</td>\n",
              "    </tr>\n",
              "    <tr>\n",
              "      <th>1416</th>\n",
              "      <td>711</td>\n",
              "      <td>0.165011</td>\n",
              "      <td>0.079768</td>\n",
              "      <td>0.141290</td>\n",
              "      <td>0.103871</td>\n",
              "      <td>0.258710</td>\n",
              "      <td>0.154839</td>\n",
              "      <td>3.335024</td>\n",
              "      <td>15.116623</td>\n",
              "      <td>0.925243</td>\n",
              "      <td>0.645095</td>\n",
              "      <td>0.134839</td>\n",
              "      <td>0.165011</td>\n",
              "      <td>0.127518</td>\n",
              "      <td>0.059918</td>\n",
              "      <td>0.234574</td>\n",
              "      <td>0.927722</td>\n",
              "      <td>0.000000</td>\n",
              "      <td>5.167969</td>\n",
              "      <td>5.167969</td>\n",
              "      <td>0.035417</td>\n",
              "      <td>male</td>\n",
              "    </tr>\n",
              "    <tr>\n",
              "      <th>1417</th>\n",
              "      <td>712</td>\n",
              "      <td>0.160477</td>\n",
              "      <td>0.064945</td>\n",
              "      <td>0.132258</td>\n",
              "      <td>0.121290</td>\n",
              "      <td>0.240000</td>\n",
              "      <td>0.118710</td>\n",
              "      <td>3.161258</td>\n",
              "      <td>13.714668</td>\n",
              "      <td>0.851956</td>\n",
              "      <td>0.376977</td>\n",
              "      <td>0.122581</td>\n",
              "      <td>0.160477</td>\n",
              "      <td>0.133568</td>\n",
              "      <td>0.045937</td>\n",
              "      <td>0.253448</td>\n",
              "      <td>0.904395</td>\n",
              "      <td>0.129199</td>\n",
              "      <td>5.189502</td>\n",
              "      <td>5.060303</td>\n",
              "      <td>0.190780</td>\n",
              "      <td>male</td>\n",
              "    </tr>\n",
              "    <tr>\n",
              "      <th>1418</th>\n",
              "      <td>713</td>\n",
              "      <td>0.179460</td>\n",
              "      <td>0.028725</td>\n",
              "      <td>0.177355</td>\n",
              "      <td>0.170858</td>\n",
              "      <td>0.187749</td>\n",
              "      <td>0.016891</td>\n",
              "      <td>2.983881</td>\n",
              "      <td>11.849366</td>\n",
              "      <td>0.766248</td>\n",
              "      <td>0.149198</td>\n",
              "      <td>0.172158</td>\n",
              "      <td>0.179460</td>\n",
              "      <td>0.119660</td>\n",
              "      <td>0.044681</td>\n",
              "      <td>0.210000</td>\n",
              "      <td>0.565845</td>\n",
              "      <td>0.172266</td>\n",
              "      <td>1.184326</td>\n",
              "      <td>1.012061</td>\n",
              "      <td>0.376330</td>\n",
              "      <td>male</td>\n",
              "    </tr>\n",
              "    <tr>\n",
              "      <th>1419</th>\n",
              "      <td>714</td>\n",
              "      <td>0.196675</td>\n",
              "      <td>0.069453</td>\n",
              "      <td>0.216774</td>\n",
              "      <td>0.134194</td>\n",
              "      <td>0.259355</td>\n",
              "      <td>0.125161</td>\n",
              "      <td>1.779159</td>\n",
              "      <td>5.938066</td>\n",
              "      <td>0.916866</td>\n",
              "      <td>0.529893</td>\n",
              "      <td>0.261935</td>\n",
              "      <td>0.196675</td>\n",
              "      <td>0.120741</td>\n",
              "      <td>0.052005</td>\n",
              "      <td>0.135276</td>\n",
              "      <td>0.947461</td>\n",
              "      <td>0.258398</td>\n",
              "      <td>2.863916</td>\n",
              "      <td>2.605518</td>\n",
              "      <td>0.068871</td>\n",
              "      <td>male</td>\n",
              "    </tr>\n",
              "    <tr>\n",
              "      <th>1420</th>\n",
              "      <td>715</td>\n",
              "      <td>0.185317</td>\n",
              "      <td>0.061642</td>\n",
              "      <td>0.212305</td>\n",
              "      <td>0.125165</td>\n",
              "      <td>0.231317</td>\n",
              "      <td>0.106152</td>\n",
              "      <td>3.258910</td>\n",
              "      <td>22.656114</td>\n",
              "      <td>0.915270</td>\n",
              "      <td>0.286580</td>\n",
              "      <td>0.078642</td>\n",
              "      <td>0.185317</td>\n",
              "      <td>0.096331</td>\n",
              "      <td>0.043151</td>\n",
              "      <td>0.275625</td>\n",
              "      <td>0.141050</td>\n",
              "      <td>0.064600</td>\n",
              "      <td>0.624463</td>\n",
              "      <td>0.559863</td>\n",
              "      <td>0.087318</td>\n",
              "      <td>male</td>\n",
              "    </tr>\n",
              "  </tbody>\n",
              "</table>\n",
              "<p>1421 rows × 22 columns</p>\n",
              "</div>"
            ],
            "text/plain": [
              "      Unnamed: 0  meanfreq        sd  ...   dfrange   modindx   label\n",
              "0              0  0.149968  0.099511  ...  0.538330  0.122000  female\n",
              "1              1  0.174247  0.084022  ...  0.645996  0.213333  female\n",
              "2              2  0.225435  0.025607  ...  0.473730  0.213636  female\n",
              "3              3  0.224039  0.063252  ...  0.689063  0.160880  female\n",
              "4              4  0.206200  0.070684  ...  0.473730  0.180070  female\n",
              "...          ...       ...       ...  ...       ...       ...     ...\n",
              "1416         711  0.165011  0.079768  ...  5.167969  0.035417    male\n",
              "1417         712  0.160477  0.064945  ...  5.060303  0.190780    male\n",
              "1418         713  0.179460  0.028725  ...  1.012061  0.376330    male\n",
              "1419         714  0.196675  0.069453  ...  2.605518  0.068871    male\n",
              "1420         715  0.185317  0.061642  ...  0.559863  0.087318    male\n",
              "\n",
              "[1421 rows x 22 columns]"
            ]
          },
          "metadata": {
            "tags": []
          },
          "execution_count": 7
        }
      ]
    },
    {
      "cell_type": "code",
      "metadata": {
        "id": "HRtLny7rGxSo"
      },
      "source": [
        "df = df.drop('maxdom', 1)"
      ],
      "execution_count": null,
      "outputs": []
    },
    {
      "cell_type": "code",
      "metadata": {
        "id": "SGWS19YIGxSs"
      },
      "source": [
        "df = df.drop('mindom', 1)"
      ],
      "execution_count": null,
      "outputs": []
    },
    {
      "cell_type": "code",
      "metadata": {
        "id": "OM46f_s4GxSu"
      },
      "source": [
        "df=df.drop('centroid',1)"
      ],
      "execution_count": null,
      "outputs": []
    },
    {
      "cell_type": "code",
      "metadata": {
        "id": "edSLd8FlGxSw"
      },
      "source": [
        "df=df.drop('dfrange',1)"
      ],
      "execution_count": null,
      "outputs": []
    },
    {
      "cell_type": "code",
      "metadata": {
        "id": "uQCX4ColGxS2"
      },
      "source": [
        "#df=df.drop('modindx',1)"
      ],
      "execution_count": null,
      "outputs": []
    },
    {
      "cell_type": "code",
      "metadata": {
        "id": "fk8aTNk-GxS5"
      },
      "source": [
        "df=df.drop('meandom',1)"
      ],
      "execution_count": null,
      "outputs": []
    },
    {
      "cell_type": "code",
      "metadata": {
        "id": "113X_anuGxS8"
      },
      "source": [
        "df=df.drop('sfm',1)"
      ],
      "execution_count": null,
      "outputs": []
    },
    {
      "cell_type": "code",
      "metadata": {
        "id": "56oUOAa5GxS-"
      },
      "source": [
        ""
      ],
      "execution_count": null,
      "outputs": []
    },
    {
      "cell_type": "code",
      "metadata": {
        "id": "UNvunDu_GxTA",
        "outputId": "b7759122-faf5-46ae-b176-ccf6ceba1031",
        "colab": {
          "base_uri": "https://localhost:8080/",
          "height": 545
        }
      },
      "source": [
        "df.corr()"
      ],
      "execution_count": null,
      "outputs": [
        {
          "output_type": "execute_result",
          "data": {
            "text/html": [
              "<div>\n",
              "<style scoped>\n",
              "    .dataframe tbody tr th:only-of-type {\n",
              "        vertical-align: middle;\n",
              "    }\n",
              "\n",
              "    .dataframe tbody tr th {\n",
              "        vertical-align: top;\n",
              "    }\n",
              "\n",
              "    .dataframe thead th {\n",
              "        text-align: right;\n",
              "    }\n",
              "</style>\n",
              "<table border=\"1\" class=\"dataframe\">\n",
              "  <thead>\n",
              "    <tr style=\"text-align: right;\">\n",
              "      <th></th>\n",
              "      <th>Unnamed: 0</th>\n",
              "      <th>meanfreq</th>\n",
              "      <th>sd</th>\n",
              "      <th>median</th>\n",
              "      <th>Q25</th>\n",
              "      <th>Q75</th>\n",
              "      <th>IQR</th>\n",
              "      <th>skew</th>\n",
              "      <th>kurt</th>\n",
              "      <th>sp.ent</th>\n",
              "      <th>mode</th>\n",
              "      <th>meanfun</th>\n",
              "      <th>minfun</th>\n",
              "      <th>maxfun</th>\n",
              "      <th>modindx</th>\n",
              "    </tr>\n",
              "  </thead>\n",
              "  <tbody>\n",
              "    <tr>\n",
              "      <th>Unnamed: 0</th>\n",
              "      <td>1.000000</td>\n",
              "      <td>0.020980</td>\n",
              "      <td>-0.031197</td>\n",
              "      <td>-0.002600</td>\n",
              "      <td>0.024698</td>\n",
              "      <td>0.010564</td>\n",
              "      <td>-0.019122</td>\n",
              "      <td>-0.012863</td>\n",
              "      <td>-0.022724</td>\n",
              "      <td>-0.064609</td>\n",
              "      <td>0.013681</td>\n",
              "      <td>0.027831</td>\n",
              "      <td>-0.000518</td>\n",
              "      <td>-0.000585</td>\n",
              "      <td>-0.066401</td>\n",
              "    </tr>\n",
              "    <tr>\n",
              "      <th>meanfreq</th>\n",
              "      <td>0.020980</td>\n",
              "      <td>1.000000</td>\n",
              "      <td>-0.559957</td>\n",
              "      <td>0.841222</td>\n",
              "      <td>0.871175</td>\n",
              "      <td>0.670027</td>\n",
              "      <td>-0.507353</td>\n",
              "      <td>-0.447113</td>\n",
              "      <td>-0.471537</td>\n",
              "      <td>-0.181412</td>\n",
              "      <td>0.676211</td>\n",
              "      <td>0.388378</td>\n",
              "      <td>0.128429</td>\n",
              "      <td>0.132365</td>\n",
              "      <td>0.158479</td>\n",
              "    </tr>\n",
              "    <tr>\n",
              "      <th>sd</th>\n",
              "      <td>-0.031197</td>\n",
              "      <td>-0.559957</td>\n",
              "      <td>1.000000</td>\n",
              "      <td>-0.211101</td>\n",
              "      <td>-0.761004</td>\n",
              "      <td>0.131469</td>\n",
              "      <td>0.845996</td>\n",
              "      <td>0.576033</td>\n",
              "      <td>0.622716</td>\n",
              "      <td>0.128282</td>\n",
              "      <td>-0.659073</td>\n",
              "      <td>-0.252497</td>\n",
              "      <td>-0.134853</td>\n",
              "      <td>0.029582</td>\n",
              "      <td>-0.185082</td>\n",
              "    </tr>\n",
              "    <tr>\n",
              "      <th>median</th>\n",
              "      <td>-0.002600</td>\n",
              "      <td>0.841222</td>\n",
              "      <td>-0.211101</td>\n",
              "      <td>1.000000</td>\n",
              "      <td>0.609976</td>\n",
              "      <td>0.661195</td>\n",
              "      <td>-0.247305</td>\n",
              "      <td>-0.141203</td>\n",
              "      <td>-0.164387</td>\n",
              "      <td>-0.237378</td>\n",
              "      <td>0.445051</td>\n",
              "      <td>0.356310</td>\n",
              "      <td>0.097372</td>\n",
              "      <td>0.164554</td>\n",
              "      <td>0.066174</td>\n",
              "    </tr>\n",
              "    <tr>\n",
              "      <th>Q25</th>\n",
              "      <td>0.024698</td>\n",
              "      <td>0.871175</td>\n",
              "      <td>-0.761004</td>\n",
              "      <td>0.609976</td>\n",
              "      <td>1.000000</td>\n",
              "      <td>0.302735</td>\n",
              "      <td>-0.844469</td>\n",
              "      <td>-0.552859</td>\n",
              "      <td>-0.609432</td>\n",
              "      <td>-0.164971</td>\n",
              "      <td>0.693236</td>\n",
              "      <td>0.433772</td>\n",
              "      <td>0.159729</td>\n",
              "      <td>0.079703</td>\n",
              "      <td>0.194567</td>\n",
              "    </tr>\n",
              "    <tr>\n",
              "      <th>Q75</th>\n",
              "      <td>0.010564</td>\n",
              "      <td>0.670027</td>\n",
              "      <td>0.131469</td>\n",
              "      <td>0.661195</td>\n",
              "      <td>0.302735</td>\n",
              "      <td>1.000000</td>\n",
              "      <td>0.254821</td>\n",
              "      <td>-0.133892</td>\n",
              "      <td>-0.094734</td>\n",
              "      <td>0.009578</td>\n",
              "      <td>0.283974</td>\n",
              "      <td>0.134319</td>\n",
              "      <td>0.008417</td>\n",
              "      <td>0.173698</td>\n",
              "      <td>0.057712</td>\n",
              "    </tr>\n",
              "    <tr>\n",
              "      <th>IQR</th>\n",
              "      <td>-0.019122</td>\n",
              "      <td>-0.507353</td>\n",
              "      <td>0.845996</td>\n",
              "      <td>-0.247305</td>\n",
              "      <td>-0.844469</td>\n",
              "      <td>0.254821</td>\n",
              "      <td>1.000000</td>\n",
              "      <td>0.485685</td>\n",
              "      <td>0.565090</td>\n",
              "      <td>0.172762</td>\n",
              "      <td>-0.543770</td>\n",
              "      <td>-0.364621</td>\n",
              "      <td>-0.157330</td>\n",
              "      <td>0.016748</td>\n",
              "      <td>-0.164974</td>\n",
              "    </tr>\n",
              "    <tr>\n",
              "      <th>skew</th>\n",
              "      <td>-0.012863</td>\n",
              "      <td>-0.447113</td>\n",
              "      <td>0.576033</td>\n",
              "      <td>-0.141203</td>\n",
              "      <td>-0.552859</td>\n",
              "      <td>-0.133892</td>\n",
              "      <td>0.485685</td>\n",
              "      <td>1.000000</td>\n",
              "      <td>0.976468</td>\n",
              "      <td>-0.499040</td>\n",
              "      <td>-0.674468</td>\n",
              "      <td>-0.075331</td>\n",
              "      <td>-0.073975</td>\n",
              "      <td>0.016650</td>\n",
              "      <td>-0.333464</td>\n",
              "    </tr>\n",
              "    <tr>\n",
              "      <th>kurt</th>\n",
              "      <td>-0.022724</td>\n",
              "      <td>-0.471537</td>\n",
              "      <td>0.622716</td>\n",
              "      <td>-0.164387</td>\n",
              "      <td>-0.609432</td>\n",
              "      <td>-0.094734</td>\n",
              "      <td>0.565090</td>\n",
              "      <td>0.976468</td>\n",
              "      <td>1.000000</td>\n",
              "      <td>-0.398019</td>\n",
              "      <td>-0.696291</td>\n",
              "      <td>-0.113313</td>\n",
              "      <td>-0.086613</td>\n",
              "      <td>0.018240</td>\n",
              "      <td>-0.324217</td>\n",
              "    </tr>\n",
              "    <tr>\n",
              "      <th>sp.ent</th>\n",
              "      <td>-0.064609</td>\n",
              "      <td>-0.181412</td>\n",
              "      <td>0.128282</td>\n",
              "      <td>-0.237378</td>\n",
              "      <td>-0.164971</td>\n",
              "      <td>0.009578</td>\n",
              "      <td>0.172762</td>\n",
              "      <td>-0.499040</td>\n",
              "      <td>-0.398019</td>\n",
              "      <td>1.000000</td>\n",
              "      <td>0.129309</td>\n",
              "      <td>-0.313793</td>\n",
              "      <td>-0.119374</td>\n",
              "      <td>-0.018800</td>\n",
              "      <td>0.200989</td>\n",
              "    </tr>\n",
              "    <tr>\n",
              "      <th>mode</th>\n",
              "      <td>0.013681</td>\n",
              "      <td>0.676211</td>\n",
              "      <td>-0.659073</td>\n",
              "      <td>0.445051</td>\n",
              "      <td>0.693236</td>\n",
              "      <td>0.283974</td>\n",
              "      <td>-0.543770</td>\n",
              "      <td>-0.674468</td>\n",
              "      <td>-0.696291</td>\n",
              "      <td>0.129309</td>\n",
              "      <td>1.000000</td>\n",
              "      <td>0.187708</td>\n",
              "      <td>0.109874</td>\n",
              "      <td>0.022461</td>\n",
              "      <td>0.247925</td>\n",
              "    </tr>\n",
              "    <tr>\n",
              "      <th>meanfun</th>\n",
              "      <td>0.027831</td>\n",
              "      <td>0.388378</td>\n",
              "      <td>-0.252497</td>\n",
              "      <td>0.356310</td>\n",
              "      <td>0.433772</td>\n",
              "      <td>0.134319</td>\n",
              "      <td>-0.364621</td>\n",
              "      <td>-0.075331</td>\n",
              "      <td>-0.113313</td>\n",
              "      <td>-0.313793</td>\n",
              "      <td>0.187708</td>\n",
              "      <td>1.000000</td>\n",
              "      <td>0.465209</td>\n",
              "      <td>0.200626</td>\n",
              "      <td>0.071563</td>\n",
              "    </tr>\n",
              "    <tr>\n",
              "      <th>minfun</th>\n",
              "      <td>-0.000518</td>\n",
              "      <td>0.128429</td>\n",
              "      <td>-0.134853</td>\n",
              "      <td>0.097372</td>\n",
              "      <td>0.159729</td>\n",
              "      <td>0.008417</td>\n",
              "      <td>-0.157330</td>\n",
              "      <td>-0.073975</td>\n",
              "      <td>-0.086613</td>\n",
              "      <td>-0.119374</td>\n",
              "      <td>0.109874</td>\n",
              "      <td>0.465209</td>\n",
              "      <td>1.000000</td>\n",
              "      <td>-0.056550</td>\n",
              "      <td>0.134659</td>\n",
              "    </tr>\n",
              "    <tr>\n",
              "      <th>maxfun</th>\n",
              "      <td>-0.000585</td>\n",
              "      <td>0.132365</td>\n",
              "      <td>0.029582</td>\n",
              "      <td>0.164554</td>\n",
              "      <td>0.079703</td>\n",
              "      <td>0.173698</td>\n",
              "      <td>0.016748</td>\n",
              "      <td>0.016650</td>\n",
              "      <td>0.018240</td>\n",
              "      <td>-0.018800</td>\n",
              "      <td>0.022461</td>\n",
              "      <td>0.200626</td>\n",
              "      <td>-0.056550</td>\n",
              "      <td>1.000000</td>\n",
              "      <td>-0.089848</td>\n",
              "    </tr>\n",
              "    <tr>\n",
              "      <th>modindx</th>\n",
              "      <td>-0.066401</td>\n",
              "      <td>0.158479</td>\n",
              "      <td>-0.185082</td>\n",
              "      <td>0.066174</td>\n",
              "      <td>0.194567</td>\n",
              "      <td>0.057712</td>\n",
              "      <td>-0.164974</td>\n",
              "      <td>-0.333464</td>\n",
              "      <td>-0.324217</td>\n",
              "      <td>0.200989</td>\n",
              "      <td>0.247925</td>\n",
              "      <td>0.071563</td>\n",
              "      <td>0.134659</td>\n",
              "      <td>-0.089848</td>\n",
              "      <td>1.000000</td>\n",
              "    </tr>\n",
              "  </tbody>\n",
              "</table>\n",
              "</div>"
            ],
            "text/plain": [
              "            Unnamed: 0  meanfreq        sd  ...    minfun    maxfun   modindx\n",
              "Unnamed: 0    1.000000  0.020980 -0.031197  ... -0.000518 -0.000585 -0.066401\n",
              "meanfreq      0.020980  1.000000 -0.559957  ...  0.128429  0.132365  0.158479\n",
              "sd           -0.031197 -0.559957  1.000000  ... -0.134853  0.029582 -0.185082\n",
              "median       -0.002600  0.841222 -0.211101  ...  0.097372  0.164554  0.066174\n",
              "Q25           0.024698  0.871175 -0.761004  ...  0.159729  0.079703  0.194567\n",
              "Q75           0.010564  0.670027  0.131469  ...  0.008417  0.173698  0.057712\n",
              "IQR          -0.019122 -0.507353  0.845996  ... -0.157330  0.016748 -0.164974\n",
              "skew         -0.012863 -0.447113  0.576033  ... -0.073975  0.016650 -0.333464\n",
              "kurt         -0.022724 -0.471537  0.622716  ... -0.086613  0.018240 -0.324217\n",
              "sp.ent       -0.064609 -0.181412  0.128282  ... -0.119374 -0.018800  0.200989\n",
              "mode          0.013681  0.676211 -0.659073  ...  0.109874  0.022461  0.247925\n",
              "meanfun       0.027831  0.388378 -0.252497  ...  0.465209  0.200626  0.071563\n",
              "minfun       -0.000518  0.128429 -0.134853  ...  1.000000 -0.056550  0.134659\n",
              "maxfun       -0.000585  0.132365  0.029582  ... -0.056550  1.000000 -0.089848\n",
              "modindx      -0.066401  0.158479 -0.185082  ...  0.134659 -0.089848  1.000000\n",
              "\n",
              "[15 rows x 15 columns]"
            ]
          },
          "metadata": {
            "tags": []
          },
          "execution_count": 15
        }
      ]
    },
    {
      "cell_type": "code",
      "metadata": {
        "id": "zNVCBaaYGxTC"
      },
      "source": [
        "df.label = [1 if each == \"female\" else 0 for each in df.label ]\n",
        "y = df.label.values\n",
        "x_data = df.drop([\"label\"], axis = 1)"
      ],
      "execution_count": null,
      "outputs": []
    },
    {
      "cell_type": "code",
      "metadata": {
        "id": "5rmET4DgGxTE"
      },
      "source": [
        "x = (x_data -np.min(x_data))/(np.max(x_data)-np.min(x_data)).values"
      ],
      "execution_count": null,
      "outputs": []
    },
    {
      "cell_type": "code",
      "metadata": {
        "id": "IsI-VUEDGxTG"
      },
      "source": [
        "from sklearn.model_selection import train_test_split\n",
        "x_train, x_test, y_train, y_test = train_test_split(x, y, test_size = 0.2, random_state = 35)"
      ],
      "execution_count": null,
      "outputs": []
    },
    {
      "cell_type": "code",
      "metadata": {
        "id": "kBJbTn5IGxTI",
        "outputId": "da15482b-5331-4bcf-b339-4527d14548d9",
        "colab": {
          "base_uri": "https://localhost:8080/",
          "height": 84
        }
      },
      "source": [
        "from sklearn.svm import SVC\n",
        "svm = SVC(random_state = 10)\n",
        "svm.fit(x_train, y_train)"
      ],
      "execution_count": null,
      "outputs": [
        {
          "output_type": "execute_result",
          "data": {
            "text/plain": [
              "SVC(C=1.0, break_ties=False, cache_size=200, class_weight=None, coef0=0.0,\n",
              "    decision_function_shape='ovr', degree=3, gamma='scale', kernel='rbf',\n",
              "    max_iter=-1, probability=False, random_state=10, shrinking=True, tol=0.001,\n",
              "    verbose=False)"
            ]
          },
          "metadata": {
            "tags": []
          },
          "execution_count": 19
        }
      ]
    },
    {
      "cell_type": "code",
      "metadata": {
        "id": "P9pBryWWGxTM",
        "outputId": "cb11dd6c-6cfd-4eeb-b369-6261d8ff14ac",
        "colab": {
          "base_uri": "https://localhost:8080/",
          "height": 34
        }
      },
      "source": [
        "print(\"accuracy of svm algorithm: \", svm.score(x_test,y_test))"
      ],
      "execution_count": null,
      "outputs": [
        {
          "output_type": "stream",
          "text": [
            "accuracy of svm algorithm:  0.887719298245614\n"
          ],
          "name": "stdout"
        }
      ]
    },
    {
      "cell_type": "code",
      "metadata": {
        "id": "PbTv_1t9GxTO"
      },
      "source": [
        "# try using StandardScaler"
      ],
      "execution_count": null,
      "outputs": []
    },
    {
      "cell_type": "code",
      "metadata": {
        "id": "10M4Pxk6GxTQ"
      },
      "source": [
        "# importing StandardScaler"
      ],
      "execution_count": null,
      "outputs": []
    },
    {
      "cell_type": "code",
      "metadata": {
        "id": "vBpy4LxQGxTS",
        "outputId": "1c547d43-f3aa-4ed5-bfbd-ed91e12ce436",
        "colab": {
          "base_uri": "https://localhost:8080/",
          "height": 212
        }
      },
      "source": [
        "from sklearn.preprocessing import StandardScaler\n",
        "scaler = StandardScaler()\n",
        "scaler.fit(X)\n",
        "X = scaler.transform(X)"
      ],
      "execution_count": null,
      "outputs": [
        {
          "output_type": "error",
          "ename": "NameError",
          "evalue": "ignored",
          "traceback": [
            "\u001b[0;31m---------------------------------------------------------------------------\u001b[0m",
            "\u001b[0;31mNameError\u001b[0m                                 Traceback (most recent call last)",
            "\u001b[0;32m<ipython-input-28-10b121545ad3>\u001b[0m in \u001b[0;36m<module>\u001b[0;34m()\u001b[0m\n\u001b[1;32m      1\u001b[0m \u001b[0;32mfrom\u001b[0m \u001b[0msklearn\u001b[0m\u001b[0;34m.\u001b[0m\u001b[0mpreprocessing\u001b[0m \u001b[0;32mimport\u001b[0m \u001b[0mStandardScaler\u001b[0m\u001b[0;34m\u001b[0m\u001b[0;34m\u001b[0m\u001b[0m\n\u001b[1;32m      2\u001b[0m \u001b[0mscaler\u001b[0m \u001b[0;34m=\u001b[0m \u001b[0mStandardScaler\u001b[0m\u001b[0;34m(\u001b[0m\u001b[0;34m)\u001b[0m\u001b[0;34m\u001b[0m\u001b[0;34m\u001b[0m\u001b[0m\n\u001b[0;32m----> 3\u001b[0;31m \u001b[0mscaler\u001b[0m\u001b[0;34m.\u001b[0m\u001b[0mfit\u001b[0m\u001b[0;34m(\u001b[0m\u001b[0mX\u001b[0m\u001b[0;34m)\u001b[0m\u001b[0;34m\u001b[0m\u001b[0;34m\u001b[0m\u001b[0m\n\u001b[0m\u001b[1;32m      4\u001b[0m \u001b[0mX\u001b[0m \u001b[0;34m=\u001b[0m \u001b[0mscaler\u001b[0m\u001b[0;34m.\u001b[0m\u001b[0mtransform\u001b[0m\u001b[0;34m(\u001b[0m\u001b[0mX\u001b[0m\u001b[0;34m)\u001b[0m\u001b[0;34m\u001b[0m\u001b[0;34m\u001b[0m\u001b[0m\n",
            "\u001b[0;31mNameError\u001b[0m: name 'X' is not defined"
          ]
        }
      ]
    },
    {
      "cell_type": "code",
      "metadata": {
        "id": "UxtwmUc9GxTT",
        "outputId": "174afda5-5eaf-44c6-d68a-a895f9708300",
        "colab": {
          "base_uri": "https://localhost:8080/",
          "height": 178
        }
      },
      "source": [
        "from sklearn.model_selection import train_test_split\n",
        "X_train, X_test, y_train, y_test = train_test_split(X, y, test_size=0.2, random_state=35)"
      ],
      "execution_count": null,
      "outputs": [
        {
          "output_type": "error",
          "ename": "NameError",
          "evalue": "ignored",
          "traceback": [
            "\u001b[0;31m---------------------------------------------------------------------------\u001b[0m",
            "\u001b[0;31mNameError\u001b[0m                                 Traceback (most recent call last)",
            "\u001b[0;32m<ipython-input-29-9293e46984a5>\u001b[0m in \u001b[0;36m<module>\u001b[0;34m()\u001b[0m\n\u001b[1;32m      1\u001b[0m \u001b[0;32mfrom\u001b[0m \u001b[0msklearn\u001b[0m\u001b[0;34m.\u001b[0m\u001b[0mmodel_selection\u001b[0m \u001b[0;32mimport\u001b[0m \u001b[0mtrain_test_split\u001b[0m\u001b[0;34m\u001b[0m\u001b[0;34m\u001b[0m\u001b[0m\n\u001b[0;32m----> 2\u001b[0;31m \u001b[0mX_train\u001b[0m\u001b[0;34m,\u001b[0m \u001b[0mX_test\u001b[0m\u001b[0;34m,\u001b[0m \u001b[0my_train\u001b[0m\u001b[0;34m,\u001b[0m \u001b[0my_test\u001b[0m \u001b[0;34m=\u001b[0m \u001b[0mtrain_test_split\u001b[0m\u001b[0;34m(\u001b[0m\u001b[0mX\u001b[0m\u001b[0;34m,\u001b[0m \u001b[0my\u001b[0m\u001b[0;34m,\u001b[0m \u001b[0mtest_size\u001b[0m\u001b[0;34m=\u001b[0m\u001b[0;36m0.2\u001b[0m\u001b[0;34m,\u001b[0m \u001b[0mrandom_state\u001b[0m\u001b[0;34m=\u001b[0m\u001b[0;36m35\u001b[0m\u001b[0;34m)\u001b[0m\u001b[0;34m\u001b[0m\u001b[0;34m\u001b[0m\u001b[0m\n\u001b[0m",
            "\u001b[0;31mNameError\u001b[0m: name 'X' is not defined"
          ]
        }
      ]
    },
    {
      "cell_type": "code",
      "metadata": {
        "id": "Xb5b_m2LGxTW",
        "outputId": "8fd26fd7-6e08-4713-b510-337495350291",
        "colab": {
          "base_uri": "https://localhost:8080/",
          "height": 229
        }
      },
      "source": [
        "from sklearn.svm import SVC\n",
        "from sklearn import metrics\n",
        "svc=SVC()\n",
        "svc.fit(X_train,y_train)\n",
        "y_pred=svc.predict(X_test)\n",
        "print('Accuracy Score:')\n",
        "print(metrics.accuracy_score(y_test,y_pred))"
      ],
      "execution_count": null,
      "outputs": [
        {
          "output_type": "error",
          "ename": "NameError",
          "evalue": "ignored",
          "traceback": [
            "\u001b[0;31m---------------------------------------------------------------------------\u001b[0m",
            "\u001b[0;31mNameError\u001b[0m                                 Traceback (most recent call last)",
            "\u001b[0;32m<ipython-input-30-cc9bb2905541>\u001b[0m in \u001b[0;36m<module>\u001b[0;34m()\u001b[0m\n\u001b[1;32m      2\u001b[0m \u001b[0;32mfrom\u001b[0m \u001b[0msklearn\u001b[0m \u001b[0;32mimport\u001b[0m \u001b[0mmetrics\u001b[0m\u001b[0;34m\u001b[0m\u001b[0;34m\u001b[0m\u001b[0m\n\u001b[1;32m      3\u001b[0m \u001b[0msvc\u001b[0m\u001b[0;34m=\u001b[0m\u001b[0mSVC\u001b[0m\u001b[0;34m(\u001b[0m\u001b[0;34m)\u001b[0m\u001b[0;34m\u001b[0m\u001b[0;34m\u001b[0m\u001b[0m\n\u001b[0;32m----> 4\u001b[0;31m \u001b[0msvc\u001b[0m\u001b[0;34m.\u001b[0m\u001b[0mfit\u001b[0m\u001b[0;34m(\u001b[0m\u001b[0mX_train\u001b[0m\u001b[0;34m,\u001b[0m\u001b[0my_train\u001b[0m\u001b[0;34m)\u001b[0m\u001b[0;34m\u001b[0m\u001b[0;34m\u001b[0m\u001b[0m\n\u001b[0m\u001b[1;32m      5\u001b[0m \u001b[0my_pred\u001b[0m\u001b[0;34m=\u001b[0m\u001b[0msvc\u001b[0m\u001b[0;34m.\u001b[0m\u001b[0mpredict\u001b[0m\u001b[0;34m(\u001b[0m\u001b[0mX_test\u001b[0m\u001b[0;34m)\u001b[0m\u001b[0;34m\u001b[0m\u001b[0;34m\u001b[0m\u001b[0m\n\u001b[1;32m      6\u001b[0m \u001b[0mprint\u001b[0m\u001b[0;34m(\u001b[0m\u001b[0;34m'Accuracy Score:'\u001b[0m\u001b[0;34m)\u001b[0m\u001b[0;34m\u001b[0m\u001b[0;34m\u001b[0m\u001b[0m\n",
            "\u001b[0;31mNameError\u001b[0m: name 'X_train' is not defined"
          ]
        }
      ]
    },
    {
      "cell_type": "code",
      "metadata": {
        "id": "CLUQS_wXGxTe"
      },
      "source": [
        "#rbf"
      ],
      "execution_count": null,
      "outputs": []
    },
    {
      "cell_type": "code",
      "metadata": {
        "id": "GsrJT1ZVGxTh",
        "outputId": "04ac1a47-aa66-407f-8b85-3885adb93154",
        "colab": {
          "base_uri": "https://localhost:8080/",
          "height": 229
        }
      },
      "source": [
        "svc=SVC(kernel='rbf',C=1)\n",
        "svc.fit(X_train,y_train)\n",
        "y_pred=svc.predict(X_test)\n",
        "print('Accuracy Score:')\n",
        "print(metrics.accuracy_score(y_test,y_pred))"
      ],
      "execution_count": null,
      "outputs": [
        {
          "output_type": "error",
          "ename": "NameError",
          "evalue": "ignored",
          "traceback": [
            "\u001b[0;31m---------------------------------------------------------------------------\u001b[0m",
            "\u001b[0;31mNameError\u001b[0m                                 Traceback (most recent call last)",
            "\u001b[0;32m<ipython-input-31-dcde5ff388f4>\u001b[0m in \u001b[0;36m<module>\u001b[0;34m()\u001b[0m\n\u001b[1;32m      1\u001b[0m \u001b[0msvc\u001b[0m\u001b[0;34m=\u001b[0m\u001b[0mSVC\u001b[0m\u001b[0;34m(\u001b[0m\u001b[0mkernel\u001b[0m\u001b[0;34m=\u001b[0m\u001b[0;34m'rbf'\u001b[0m\u001b[0;34m,\u001b[0m\u001b[0mC\u001b[0m\u001b[0;34m=\u001b[0m\u001b[0;36m1\u001b[0m\u001b[0;34m)\u001b[0m\u001b[0;34m\u001b[0m\u001b[0;34m\u001b[0m\u001b[0m\n\u001b[0;32m----> 2\u001b[0;31m \u001b[0msvc\u001b[0m\u001b[0;34m.\u001b[0m\u001b[0mfit\u001b[0m\u001b[0;34m(\u001b[0m\u001b[0mX_train\u001b[0m\u001b[0;34m,\u001b[0m\u001b[0my_train\u001b[0m\u001b[0;34m)\u001b[0m\u001b[0;34m\u001b[0m\u001b[0;34m\u001b[0m\u001b[0m\n\u001b[0m\u001b[1;32m      3\u001b[0m \u001b[0my_pred\u001b[0m\u001b[0;34m=\u001b[0m\u001b[0msvc\u001b[0m\u001b[0;34m.\u001b[0m\u001b[0mpredict\u001b[0m\u001b[0;34m(\u001b[0m\u001b[0mX_test\u001b[0m\u001b[0;34m)\u001b[0m\u001b[0;34m\u001b[0m\u001b[0;34m\u001b[0m\u001b[0m\n\u001b[1;32m      4\u001b[0m \u001b[0mprint\u001b[0m\u001b[0;34m(\u001b[0m\u001b[0;34m'Accuracy Score:'\u001b[0m\u001b[0;34m)\u001b[0m\u001b[0;34m\u001b[0m\u001b[0;34m\u001b[0m\u001b[0m\n\u001b[1;32m      5\u001b[0m \u001b[0mprint\u001b[0m\u001b[0;34m(\u001b[0m\u001b[0mmetrics\u001b[0m\u001b[0;34m.\u001b[0m\u001b[0maccuracy_score\u001b[0m\u001b[0;34m(\u001b[0m\u001b[0my_test\u001b[0m\u001b[0;34m,\u001b[0m\u001b[0my_pred\u001b[0m\u001b[0;34m)\u001b[0m\u001b[0;34m)\u001b[0m\u001b[0;34m\u001b[0m\u001b[0;34m\u001b[0m\u001b[0m\n",
            "\u001b[0;31mNameError\u001b[0m: name 'X_train' is not defined"
          ]
        }
      ]
    },
    {
      "cell_type": "code",
      "metadata": {
        "id": "j3j0_yAXGxTl"
      },
      "source": [
        "#consider gamma value is 0.1"
      ],
      "execution_count": null,
      "outputs": []
    },
    {
      "cell_type": "code",
      "metadata": {
        "id": "YO-h9udEGxTp",
        "outputId": "c3f7cf64-5675-42cf-a318-b6748e7cd27f",
        "colab": {
          "base_uri": "https://localhost:8080/",
          "height": 229
        }
      },
      "source": [
        "from sklearn.svm import SVC\n",
        "svc= SVC(kernel='rbf',gamma=0.1)\n",
        "svc.fit(X_train,y_train)\n",
        "y_predict=svc.predict(X_test)\n",
        "metrics.accuracy_score(y_test,y_predict)"
      ],
      "execution_count": null,
      "outputs": [
        {
          "output_type": "error",
          "ename": "NameError",
          "evalue": "ignored",
          "traceback": [
            "\u001b[0;31m---------------------------------------------------------------------------\u001b[0m",
            "\u001b[0;31mNameError\u001b[0m                                 Traceback (most recent call last)",
            "\u001b[0;32m<ipython-input-32-f5d05a5f0654>\u001b[0m in \u001b[0;36m<module>\u001b[0;34m()\u001b[0m\n\u001b[1;32m      1\u001b[0m \u001b[0;32mfrom\u001b[0m \u001b[0msklearn\u001b[0m\u001b[0;34m.\u001b[0m\u001b[0msvm\u001b[0m \u001b[0;32mimport\u001b[0m \u001b[0mSVC\u001b[0m\u001b[0;34m\u001b[0m\u001b[0;34m\u001b[0m\u001b[0m\n\u001b[1;32m      2\u001b[0m \u001b[0msvc\u001b[0m\u001b[0;34m=\u001b[0m \u001b[0mSVC\u001b[0m\u001b[0;34m(\u001b[0m\u001b[0mkernel\u001b[0m\u001b[0;34m=\u001b[0m\u001b[0;34m'rbf'\u001b[0m\u001b[0;34m,\u001b[0m\u001b[0mgamma\u001b[0m\u001b[0;34m=\u001b[0m\u001b[0;36m0.1\u001b[0m\u001b[0;34m)\u001b[0m\u001b[0;34m\u001b[0m\u001b[0;34m\u001b[0m\u001b[0m\n\u001b[0;32m----> 3\u001b[0;31m \u001b[0msvc\u001b[0m\u001b[0;34m.\u001b[0m\u001b[0mfit\u001b[0m\u001b[0;34m(\u001b[0m\u001b[0mX_train\u001b[0m\u001b[0;34m,\u001b[0m\u001b[0my_train\u001b[0m\u001b[0;34m)\u001b[0m\u001b[0;34m\u001b[0m\u001b[0;34m\u001b[0m\u001b[0m\n\u001b[0m\u001b[1;32m      4\u001b[0m \u001b[0my_predict\u001b[0m\u001b[0;34m=\u001b[0m\u001b[0msvc\u001b[0m\u001b[0;34m.\u001b[0m\u001b[0mpredict\u001b[0m\u001b[0;34m(\u001b[0m\u001b[0mX_test\u001b[0m\u001b[0;34m)\u001b[0m\u001b[0;34m\u001b[0m\u001b[0;34m\u001b[0m\u001b[0m\n\u001b[1;32m      5\u001b[0m \u001b[0mmetrics\u001b[0m\u001b[0;34m.\u001b[0m\u001b[0maccuracy_score\u001b[0m\u001b[0;34m(\u001b[0m\u001b[0my_test\u001b[0m\u001b[0;34m,\u001b[0m\u001b[0my_predict\u001b[0m\u001b[0;34m)\u001b[0m\u001b[0;34m\u001b[0m\u001b[0;34m\u001b[0m\u001b[0m\n",
            "\u001b[0;31mNameError\u001b[0m: name 'X_train' is not defined"
          ]
        }
      ]
    },
    {
      "cell_type": "code",
      "metadata": {
        "id": "Oj-TRyoKH-SO",
        "outputId": "1cd75e76-aa2e-43af-e1ee-c98b33c9a088",
        "colab": {
          "base_uri": "https://localhost:8080/",
          "height": 34
        }
      },
      "source": [
        "from google.colab import drive\n",
        "drive.mount('/content/drive')"
      ],
      "execution_count": null,
      "outputs": [
        {
          "output_type": "stream",
          "text": [
            "Drive already mounted at /content/drive; to attempt to forcibly remount, call drive.mount(\"/content/drive\", force_remount=True).\n"
          ],
          "name": "stdout"
        }
      ]
    },
    {
      "cell_type": "code",
      "metadata": {
        "id": "tKd_oi61GxTu"
      },
      "source": [
        ""
      ],
      "execution_count": null,
      "outputs": []
    },
    {
      "cell_type": "code",
      "metadata": {
        "id": "zSYoRJDJGxTx"
      },
      "source": [
        ""
      ],
      "execution_count": null,
      "outputs": []
    },
    {
      "cell_type": "code",
      "metadata": {
        "id": "imD5_XHRGxT0"
      },
      "source": [
        ""
      ],
      "execution_count": null,
      "outputs": []
    },
    {
      "cell_type": "code",
      "metadata": {
        "id": "QDS9IQEvGxT1"
      },
      "source": [
        ""
      ],
      "execution_count": null,
      "outputs": []
    }
  ]
}